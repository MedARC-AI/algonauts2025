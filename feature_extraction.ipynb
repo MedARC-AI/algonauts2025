{
 "cells": [
  {
   "cell_type": "code",
   "execution_count": 1,
   "metadata": {
    "_cell_guid": "b1076dfc-b9ad-4769-8c92-a6c4dae69d19",
    "_uuid": "8f2839f25d086af736a60e9eeb907d3b93b6e0e5"
   },
   "outputs": [],
   "source": [
    "# This Python 3 environment comes with many helpful analytics libraries installed\n",
    "# It is defined by the kaggle/python Docker image: https://github.com/kaggle/docker-python\n",
    "# For example, here's several helpful packages to load\n",
    "\n",
    "import numpy as np # linear algebra\n",
    "import pandas as pd # data processing, CSV file I/O (e.g. pd.read_csv)\n",
    "\n",
    "# Input data files are available in the read-only \"../input/\" directory\n",
    "# For example, running this (by clicking run or pressing Shift+Enter) will list all files under the input directory\n",
    "\n",
    "import os\n",
    "for dirname, _, filenames in os.walk('/kaggle/input'):\n",
    "    for filename in filenames:\n",
    "        pass\n",
    "        # print(os.path.join(dirname, filename))\n",
    "\n",
    "# You can write up to 20GB to the current directory (/kaggle/working/) that gets preserved as output when you create a version using \"Save & Run All\" \n",
    "# You can also write temporary files to /kaggle/temp/, but they won't be saved outside of the current session"
   ]
  },
  {
   "cell_type": "markdown",
   "metadata": {},
   "source": [
    "### Define feature extractor"
   ]
  },
  {
   "cell_type": "code",
   "execution_count": 2,
   "metadata": {},
   "outputs": [],
   "source": [
    "import fnmatch\n",
    "from typing import Any, Dict, List, Tuple\n",
    "from torch import nn\n",
    "from PIL import Image\n",
    "import ast \n",
    "\n",
    "class HuggingFaceFeatureExtractor:\n",
    "    \"\"\"\n",
    "    A feature extractor for Hugging Face (or any PyTorch) models that captures\n",
    "    intermediate activations from any layer specified by exact name or glob pattern.\n",
    "\n",
    "    Example usage:\n",
    "        from transformers import BertModel\n",
    "        model = BertModel.from_pretrained(\"bert-base-uncased\")\n",
    "        # Specify layers (using glob patterns is supported)\n",
    "        layers_to_extract = [\"encoder.layer.*.output\"]\n",
    "\n",
    "        # Using the extractor as a context manager ensures hooks are removed automatically.\n",
    "        with HuggingFaceFeatureExtractor(model, layers_to_extract, detach=True) as extractor:\n",
    "            # Perform a forward pass as usual\n",
    "            outputs = model(input_ids, attention_mask=mask)\n",
    "            # Get a copy of the extracted features\n",
    "            features = extractor.features\n",
    "            # Now 'features' is a dict mapping layer names to their activation tensors.\n",
    "    \"\"\"\n",
    "\n",
    "    def __init__(self, model: nn.Module, layers: List[str], detach: bool = True):\n",
    "        self.model = model\n",
    "        self.detach = detach\n",
    "        # Expand layer patterns into full module names\n",
    "        self.layers = self._expand_layers(model, layers)\n",
    "        self._features: Dict[str, Any] = {}\n",
    "        self._handles: Dict[str, Any] = {}\n",
    "        self._register_hooks()\n",
    "\n",
    "    def _register_hooks(self):\n",
    "        \"\"\"Register forward hooks on each specified layer.\"\"\"\n",
    "        for layer in self.layers:\n",
    "            sub_module = self.model.get_submodule(layer)\n",
    "            handle = sub_module.register_forward_hook(self._make_hook(layer))\n",
    "            self._handles[layer] = handle\n",
    "\n",
    "    def _make_hook(self, layer_name: str):\n",
    "        def hook(module: nn.Module, inputs: Tuple[Any, ...], output: Any):\n",
    "            # Optionally detach to break the graph and save memory.\n",
    "            self._features[layer_name] = output.detach() if self.detach else output\n",
    "        return hook\n",
    "\n",
    "    def clear(self):\n",
    "        \"\"\"Clear the stored features before a new forward pass.\"\"\"\n",
    "        self._features.clear()\n",
    "\n",
    "    @property\n",
    "    def features(self) -> Dict[str, Any]:\n",
    "        \"\"\"Return a copy of the captured features.\"\"\"\n",
    "        return dict(self._features)\n",
    "\n",
    "    def __call__(self, *args, **kwargs) -> Any:\n",
    "        \"\"\"\n",
    "        Run the model forward. This automatically clears previous features,\n",
    "        then performs a forward pass, capturing intermediate activations.\n",
    "        Returns the model's original output.\n",
    "        \"\"\"\n",
    "        self.clear()\n",
    "        return self.model(*args, **kwargs)\n",
    "\n",
    "    def remove_hooks(self):\n",
    "        \"\"\"Remove all registered hooks.\"\"\"\n",
    "        for handle in self._handles.values():\n",
    "            handle.remove()\n",
    "        self._handles.clear()\n",
    "\n",
    "    def __enter__(self):\n",
    "        \"\"\"Enter context: hooks are already registered.\"\"\"\n",
    "        return self\n",
    "\n",
    "    def __exit__(self, exc_type, exc_value, traceback):\n",
    "        \"\"\"Exit context: remove all hooks.\"\"\"\n",
    "        self.remove_hooks()\n",
    "\n",
    "    @staticmethod\n",
    "    def _expand_layers(model: nn.Module, layers: List[str]) -> List[str]:\n",
    "        \"\"\"\n",
    "        Expand a list of layer names and/or glob patterns to all matching module names\n",
    "        in the given model. Raises an error if a specified name or pattern doesn't match.\n",
    "        \"\"\"\n",
    "        all_layers = [name for name, _ in model.named_modules() if name]  # skip the root module ''\n",
    "        all_layers_set = set(all_layers)\n",
    "        expanded = []\n",
    "        special_chars = set(\"*?[]\")\n",
    "        for layer in layers:\n",
    "            if not any(char in layer for char in special_chars):\n",
    "                if layer not in all_layers_set:\n",
    "                    raise ValueError(f\"Layer '{layer}' not found in the model.\")\n",
    "                expanded.append(layer)\n",
    "            else:\n",
    "                matches = fnmatch.filter(all_layers, layer)\n",
    "                if not matches:\n",
    "                    raise ValueError(f\"No layers match the pattern '{layer}'.\")\n",
    "                expanded.extend(matches)\n",
    "        return expanded\n"
   ]
  },
  {
   "cell_type": "markdown",
   "metadata": {},
   "source": [
    "### Define functions for loading video/audio/transcript"
   ]
  },
  {
   "cell_type": "code",
   "execution_count": 3,
   "metadata": {},
   "outputs": [],
   "source": [
    "import pandas as pd\n",
    "import torchaudio\n",
    "import cv2\n",
    "import torch\n",
    "import torch.nn.functional as F\n",
    "from typing import Tuple, List, Callable\n",
    "\n",
    "\n",
    "\n",
    "\n",
    "def load_transcript(\n",
    "    path: str\n",
    ") -> pd.DataFrame:\n",
    "    \"\"\"\n",
    "    Loads a transcript file (TSV) into a pandas DataFrame.\n",
    "\n",
    "    Parameters:\n",
    "        path (str): Path to the transcript file.\n",
    "\n",
    "    Returns:\n",
    "        pd.DataFrame: DataFrame containing the transcript data.\n",
    "    \"\"\"\n",
    "    try:\n",
    "        df = pd.read_csv(path, sep='\\t')\n",
    "        return df\n",
    "    except Exception as e:\n",
    "        raise RuntimeError(f\"Error loading transcript from {path}: {e}\")\n",
    "\n",
    "\n",
    "def load_audio(\n",
    "    path: str,\n",
    "    sampling_rate: int = 48000,\n",
    "    stereo: bool = True\n",
    ") -> (torch.Tensor, int):\n",
    "    \"\"\"\n",
    "    Loads an audio file using torchaudio, converts the waveform to half precision,\n",
    "    optionally converts stereo audio to mono, resamples it to the specified sampling_rate\n",
    "    if needed, and returns the waveform and sample rate.\n",
    "\n",
    "    Parameters:\n",
    "        path (str): Path to the audio file.\n",
    "        sampling_rate (int): Desired sampling rate for the output waveform.\n",
    "        stereo (bool): If False, converts stereo audio to mono.\n",
    "\n",
    "    Returns:\n",
    "        tuple: (waveform_fp16, sampling_rate) where waveform_fp16 is a tensor in float16.\n",
    "    \"\"\"\n",
    "    try:\n",
    "        # Set the backend to 'ffmpeg' if available\n",
    "        torchaudio.set_audio_backend(\"ffmpeg\")\n",
    "        waveform, orig_sr = torchaudio.load(path)\n",
    "        \n",
    "        # Convert to mono if stereo is False and the waveform has multiple channels\n",
    "        if not stereo and waveform.size(0) > 1:\n",
    "            waveform = waveform.mean(dim=0, keepdim=True)\n",
    "        \n",
    "        # Resample if original sample rate is different from the desired sampling rate\n",
    "        if orig_sr != sampling_rate:\n",
    "            resampler = torchaudio.transforms.Resample(orig_freq=orig_sr, new_freq=sampling_rate)\n",
    "            waveform = resampler(waveform)\n",
    "        \n",
    "        # Convert the waveform to half precision (float16)\n",
    "        waveform_fp16 = waveform.half()\n",
    "        del waveform\n",
    "        return waveform_fp16, sampling_rate\n",
    "    except Exception as e:\n",
    "        raise RuntimeError(f\"Error loading audio from {path}: {e}\")\n",
    "\n",
    "\n",
    "def load_video(\n",
    "    path: str,\n",
    "    resolution: Tuple[int, int] = (224, 224),\n",
    "    tensor_dtype: torch.dtype = torch.float16,\n",
    "    verbose: bool = True,\n",
    ") -> torch.Tensor:\n",
    "    \"\"\"\n",
    "    Loads a video file, reads its frames, converts each frame from BGR to RGB,\n",
    "    resizes to 224x224, and returns a tensor containing all frames.\n",
    "\n",
    "    Parameters:\n",
    "        path (str): Path to the video file.\n",
    "\n",
    "    Returns:\n",
    "        torch.Tensor: Tensor of shape [num_frames, 3, 224, 224] containing the video frames.\n",
    "    \"\"\"\n",
    "    cap = cv2.VideoCapture(path)\n",
    "\n",
    "    if not cap.isOpened():\n",
    "        raise IOError(\"Cannot open video file: {}\".format(path))\n",
    "\n",
    "    # Get video FPS and calculate number of frames for 10 seconds\n",
    "    fps = cap.get(cv2.CAP_PROP_FPS)\n",
    "    num_frames_to_read = int(cap.get(cv2.CAP_PROP_FRAME_COUNT))\n",
    "\n",
    "    if verbose:\n",
    "        print(\"Total number of frames in the video:\", cap.get(cv2.CAP_PROP_FRAME_COUNT))\n",
    "        print(\"Original Resolution:\", (cap.get(cv2.CAP_PROP_FRAME_WIDTH), cap.get(cv2.CAP_PROP_FRAME_HEIGHT)))\n",
    "        print(\"FPS:\", fps)\n",
    "        print(\"Duration (seconds):\", num_frames_to_read / fps)\n",
    "        print(\"Target Resolution:\", resolution)\n",
    "\n",
    "    frames = torch.zeros(num_frames_to_read, 3, 224, 224, dtype=tensor_dtype)\n",
    "\n",
    "    for i in range(num_frames_to_read):\n",
    "        ret, frame = cap.read()\n",
    "\n",
    "        if not ret:\n",
    "            break\n",
    "\n",
    "        # Optionally, convert the frame from BGR to RGB (if needed)\n",
    "        frame_rgb = cv2.cvtColor(frame, cv2.COLOR_BGR2RGB)\n",
    "        \n",
    "        # Convert the frame (numpy array) to a torch tensor and permute dimensions to [C, H, W]\n",
    "        frame_tensor = torch.from_numpy(frame_rgb).permute(2, 0, 1) \n",
    "        # Resize the frame to 224x224\n",
    "        frame_tensor = torch.nn.functional.interpolate(frame_tensor.unsqueeze(0), size=224, mode='bilinear', align_corners=False)\n",
    "        frames[i] = frame_tensor\n",
    "\n",
    "    cap.release()\n",
    "\n",
    "    if verbose:\n",
    "        print(f\"Read {len(frames)} frames.\")\n",
    "        print(f\"Frames shape: {frames.shape}\")\n",
    "\n",
    "    return frames, fps"
   ]
  },
  {
   "cell_type": "code",
   "execution_count": 4,
   "metadata": {},
   "outputs": [],
   "source": [
    "# from transformers import BertModel, BertTokenizer\n",
    "# import torch\n",
    "\n",
    "# # Initialize the model and tokenizer.\n",
    "# model = BertModel.from_pretrained(\"bert-base-uncased\")\n",
    "# tokenizer = BertTokenizer.from_pretrained(\"bert-base-uncased\")\n",
    "\n",
    "# # Prepare an example input.\n",
    "# text = \"This is a test sentence for feature extraction.\"\n",
    "# inputs = tokenizer(text, return_tensors=\"pt\")\n",
    "\n",
    "# # Define the layers to extract using a glob pattern.\n",
    "# # For BERT, each encoder layer (0-indexed) has a submodule \"output\" that we target.\n",
    "# layers_to_extract = [\"encoder.layer.0.output\"]\n",
    "\n",
    "# # Use the feature extractor as a context manager so that hooks are cleaned up automatically.\n",
    "# with HuggingFaceFeatureExtractor(model, layers_to_extract, detach=True) as extractor:\n",
    "#     # Run a forward pass. The extractor clears previous features automatically.\n",
    "#     outputs = extractor(**inputs)\n",
    "\n",
    "#     # Retrieve the extracted features.\n",
    "#     features = extractor.features\n",
    "\n",
    "#     # Print out the shape of the main model output.\n",
    "#     print(\"Main model output (last_hidden_state) shape:\", outputs.last_hidden_state.shape)\n",
    "\n",
    "#     # Iterate over the extracted features and print their shapes.\n",
    "#     for layer_name, activation in features.items():\n",
    "#         print(f\"Layer: {layer_name}, Feature shape: {activation.shape}\")\n"
   ]
  },
  {
   "cell_type": "markdown",
   "metadata": {},
   "source": [
    "### Define main function for iterating over the files and write .h5 for each one "
   ]
  },
  {
   "cell_type": "code",
   "execution_count": 5,
   "metadata": {},
   "outputs": [],
   "source": [
    "from pathlib import Path\n",
    "import h5py\n",
    "from tqdm import tqdm\n",
    "import numpy as np\n",
    "import matplotlib.pyplot as plt\n",
    "\n",
    "\n",
    "\n",
    "def extract_features(\n",
    "    parts: List[str],\n",
    "    movies_base: str,\n",
    "    transcripts_base: str,\n",
    "    output_dir: str,\n",
    "    extraction_fn: Callable,\n",
    "    interval: int = 1.49,\n",
    "    verbose: bool = True,\n",
    "    modality: str = 'all',\n",
    "):\n",
    "    \"\"\"\n",
    "    Extracts features from the specified parts of the dataset using the provided extraction function.\n",
    "\n",
    "    Parameters:\n",
    "        parts (List[str]): List of parts to extract features from. This is the subdirectory name under friends and movie10 folders.\n",
    "        movies_base (str): Path to the base directory containing movie files.\n",
    "        transcripts_base (str): Path to the base directory containing transcript files.\n",
    "        output_dir (str): Path to the output directory where features will be saved.\n",
    "        interval (int): Interval (in seconds) at which to extract features. Default is 1.49 seconds (the TR for the dataset).\n",
    "        extraction_fn (function): Function that extracts features from the stimuli. The function should take the following arguments:\n",
    "            - video: torch.Tensor containing video frames (num_frames, 3, 224, 224)\n",
    "            - audio: torch.Tensor containing audio waveform (2, num_samples)\n",
    "            - transcript: array containing strings of words (num_words,)\n",
    "            - verbose: bool indicating whether to print verbose output.\n",
    "            and should return a dictionary mapping layer names to extracted features as torch.Tensor.\n",
    "        verbose (bool): Whether to print verbose output.\n",
    "        modality (str): Modality to extract features from. Default is 'all'. Options are 'video', 'audio', 'transcript'.\n",
    "\n",
    "\n",
    "    \"\"\"\n",
    "    global video_section_g, audio_section_g, transcript_section_g\n",
    "\n",
    "    movies_base = Path(movies_base)\n",
    "    transcripts_base = Path(transcripts_base)\n",
    "\n",
    "    # Verify that the base directories exist.\n",
    "    if not movies_base.exists():\n",
    "        raise FileNotFoundError(f\"Movies directory not found: {movies_base}\")\n",
    "    if not transcripts_base.exists():\n",
    "        raise FileNotFoundError(f\"Transcripts directory not found: {transcripts_base}\")\n",
    "\n",
    "    # Iterate through all directories under movies_base.\n",
    "    for folder in movies_base.rglob('*'):\n",
    "        if folder.is_dir() and folder.name in parts:\n",
    "            # Iterate through mkv files in the matched directory.\n",
    "            for movie_file in folder.glob('*.mkv'):\n",
    "                # Compute the relative path from movies_base.\n",
    "                try:\n",
    "                    rel_folder = folder.relative_to(movies_base)\n",
    "                except ValueError:\n",
    "                    # Skip directories that are not under movies_base.\n",
    "                    continue\n",
    "\n",
    "                print(rel_folder)\n",
    "                if \"friends\" in str(rel_folder):\n",
    "                    # Build the corresponding transcript file path.\n",
    "                    transcript_file = transcripts_base / rel_folder / movie_file.with_suffix('.tsv').name\n",
    "                else:\n",
    "                    transcript_file = transcripts_base / rel_folder / f\"movie10_{movie_file.with_suffix('.tsv').name}\"\n",
    "\n",
    "                print(f\"Movie:      {movie_file}\")\n",
    "                print(f\"Transcript: {transcript_file}\")\n",
    "\n",
    "                # Load video frames, audio waveform, and transcript.\n",
    "                video, audio, transcript, sample_rate, fps_video = None, None, None, None, None\n",
    "                if modality == 'all' or modality == 'video':\n",
    "                    video, fps_video = load_video(movie_file, verbose=verbose)\n",
    "                if modality == 'all' or modality == 'audio' or modality == 'video' or modality == 'transcript':\n",
    "                    audio, sample_rate = load_audio(movie_file)\n",
    "                if modality == 'all' or modality == 'transcript':\n",
    "                    transcript = load_transcript(transcript_file)\n",
    "\n",
    "                # round fps video\n",
    "                if fps_video:\n",
    "                    fps_video = round(fps_video)\n",
    "\n",
    "                if transcript is not None:\n",
    "                    transcript = resample_transcript(transcript, interval)\n",
    "                    \n",
    "                total_duration = audio.shape[1] / sample_rate\n",
    "                num_intervals = int(total_duration // interval)\n",
    "\n",
    "                if verbose:\n",
    "                    print(f\"Total duration: {total_duration:.2f} seconds\")\n",
    "                    print(f\"Number of intervals: {num_intervals}\")\n",
    "\n",
    "                # Create the output directory if it doesn't exist.\n",
    "                output_folder = Path(output_dir) / rel_folder\n",
    "                output_folder.mkdir(parents=True, exist_ok=True)\n",
    "\n",
    "                # Create a h5 file to store the features.\n",
    "                output_file = output_folder / movie_file.with_suffix('.h5').name\n",
    "\n",
    "                if verbose:\n",
    "                    print(f\"Output file: {output_file}\")\n",
    "\n",
    "                # Create a HDF5 file to store the features.\n",
    "                with h5py.File(output_file, 'w') as f:\n",
    "                    features_datasets = {} \n",
    "                    # Extract features at each interval.\n",
    "                    for i in tqdm(range(num_intervals)):\n",
    "                        video_section, audio_section, transcript_section = extract_section(\n",
    "                            video, audio, transcript, interval, i, sample_rate, modality, fps_video\n",
    "                        )\n",
    "\n",
    "                        # if i == 100:\n",
    "                        #     video_section_g = video_section\n",
    "                        #     audio_section_g = audio_section\n",
    "                        #     transcript_section_g = transcript_section\n",
    "    \n",
    "                            \n",
    "                        #     # convert the video_section from int8 to float32\n",
    "                        #     video_section = video_section.int()\n",
    "                        #     # plot the first and the last frame of the video\n",
    "                        #     plt.imshow(video_section[0].permute(1, 2, 0).cpu().numpy())\n",
    "                        #     plt.show()\n",
    "                        #     plt.imshow(video_section[-1].permute(1, 2, 0).cpu().numpy())    \n",
    "                        #     plt.show()\n",
    "    \n",
    "    \n",
    "                        #     # display the audio section as an html audio element\n",
    "                        #     torchaudio.save(\"audio.wav\", audio_section.float(), sample_rate)\n",
    "                        #     from IPython.display import Audio\n",
    "                        #     Audio(\"audio.wav\")\n",
    "    \n",
    "    \n",
    "                        #     # print the transcript section\n",
    "                        #     print(transcript_section)\n",
    "                        \n",
    "                        #     # break for testing\n",
    "                        #     assert False\n",
    "                        \n",
    "                            \n",
    "        \n",
    "                        output_features = extract_fn(video_section, audio_section, transcript_section, verbose)\n",
    "                        \n",
    "                        for layer_name, tensor in output_features.items():\n",
    "                            # Convert the tensor to a numpy array (on CPU) before storing.\n",
    "                            tensor_np = tensor.cpu().numpy()\n",
    "                            if layer_name not in features_datasets:\n",
    "                                # Create a new dataset and initialize it with the first interval's data.\n",
    "                                features_datasets[layer_name] = f.create_dataset(\n",
    "                                    layer_name,\n",
    "                                    data=tensor_np[np.newaxis, ...],\n",
    "                                    maxshape=(None,) + tensor_np.shape,\n",
    "                                    dtype=np.float16,\n",
    "                                    chunks=True,\n",
    "                                )\n",
    "                            else:\n",
    "                                ds = features_datasets[layer_name]\n",
    "                                ds.resize(ds.shape[0] + 1, axis=0)\n",
    "                                ds[-1] = tensor_np\n",
    "                                \n",
    "                        # if features_dataset is None:\n",
    "                        #     features_max_shape = (None,) + output_features.shape\n",
    "                        #     print(features_max_shape, output_features.shape)\n",
    "                        #     features_dataset = f.create_dataset(\n",
    "                        #         'features', \n",
    "                        #         shape= output_features.unsqueeze(0).shape,\n",
    "                        #         maxshape=features_max_shape,\n",
    "                        #         dtype=np.float16,\n",
    "                        #         chunks=True,    \n",
    "                        #     )\n",
    "                        # else:\n",
    "                        #     features_dataset.resize(features_dataset.shape[0] + 1, axis=0)\n",
    "                        #     features_dataset[-1] = output_features\n",
    "\n",
    "def resample_transcript(transcript: pd.DataFrame, new_interval: float) -> pd.DataFrame:\n",
    "    \"\"\"\n",
    "    Pre-aggregates transcript data into new time intervals.\n",
    "    \n",
    "    Parameters:\n",
    "        transcript (pd.DataFrame): DataFrame with columns 'words_per_tr', 'onsets_per_tr', and 'durations_per_tr'.\n",
    "        new_interval (float): Desired interval in seconds for grouping.\n",
    "        \n",
    "    Returns:\n",
    "        pd.DataFrame: New DataFrame where each row aggregates words whose end time (onset + duration)\n",
    "                      falls within the same new interval.\n",
    "    \"\"\"\n",
    "    all_words = []\n",
    "    all_onsets = []\n",
    "    all_durations = []\n",
    "\n",
    "    for _, row in transcript.iterrows():\n",
    "        # Skip rows without valid onsets.\n",
    "        if not row['onsets_per_tr'] or row['onsets_per_tr'] == []:\n",
    "            continue\n",
    "\n",
    "        # Convert string representations if needed.\n",
    "        onsets = row['onsets_per_tr']\n",
    "        words = row['words_per_tr']\n",
    "        durations = row['durations_per_tr']\n",
    "        if isinstance(onsets, str):\n",
    "            onsets = ast.literal_eval(onsets)\n",
    "        if isinstance(words, str):\n",
    "            words = ast.literal_eval(words)\n",
    "        if isinstance(durations, str):\n",
    "            durations = ast.literal_eval(durations)\n",
    "\n",
    "        all_words.extend(words)\n",
    "        all_onsets.extend(onsets)\n",
    "        all_durations.extend(durations)\n",
    "\n",
    "    # Create a DataFrame with one row per word.\n",
    "    df = pd.DataFrame({\n",
    "        'word': all_words,\n",
    "        'onset': all_onsets,\n",
    "        'duration': all_durations\n",
    "    })\n",
    "    df['word_end'] = df['onset'] + df['duration']\n",
    "    \n",
    "    # Determine the new interval index.\n",
    "    df['new_index'] = (df['word_end'] // new_interval).astype(int)\n",
    "    \n",
    "    # Group by the new interval index.\n",
    "    grouped = df.groupby('new_index').agg({\n",
    "        'word': list,\n",
    "        'onset': list,\n",
    "        'duration': list,\n",
    "        'word_end': list\n",
    "    }).reset_index(drop=True)\n",
    "    \n",
    "    return grouped\n",
    "\n",
    "\n",
    "def extract_section(\n",
    "    video: torch.Tensor,\n",
    "    audio: torch.Tensor,\n",
    "    transcript: pd.DataFrame,\n",
    "    interval: float,\n",
    "    index: int,\n",
    "    sample_rate: int,\n",
    "    modality: str = 'all',\n",
    "    fps_video: float = 30\n",
    ") -> Tuple[torch.Tensor, torch.Tensor, List[str]]:\n",
    "    \"\"\"\n",
    "    Extracts a section of audio, video, and transcript data based on the interval and index.\n",
    "\n",
    "    Parameters:\n",
    "        audio (torch.Tensor): Tensor containing audio waveform (2, num_samples).\n",
    "        video (torch.Tensor): Tensor containing video frames (num_frames, 3, 224, 224).\n",
    "        transcript (pd.DataFrame): DataFrame containing transcript data.\n",
    "        interval (float): Interval (in seconds) at which to extract features.\n",
    "        index (int): Index of the interval to extract.\n",
    "        sample_rate (int): Sample rate of the audio waveform.\n",
    "        modality (str): Modality to extract features from. Default is 'all'. Options are 'video', 'audio', 'transcript'. The function will return None for the other modalities.\n",
    "\n",
    "    Returns:\n",
    "        tuple: (audio_section, video_section, transcript_section) where:\n",
    "            - audio_section is a torch.Tensor containing the audio data for the section.\n",
    "            - video_section is a torch.Tensor containing the video data for the section.\n",
    "            - transcript_section is a list of strings containing the transcript data for the section.\n",
    "    \"\"\"\n",
    "    audio_section = None\n",
    "    video_section = None\n",
    "    transcript_section = []\n",
    "\n",
    "    # Compute the start and end times for the section.\n",
    "    start_time = index * interval\n",
    "    end_time = (index + 1) * interval\n",
    "\n",
    "    if modality == 'all' or modality == 'audio':\n",
    "        # Extract audio data for the section.\n",
    "        audio_start = int(start_time * sample_rate)\n",
    "        audio_end = int(end_time * sample_rate)\n",
    "        audio_section = audio[:, audio_start:audio_end]\n",
    "\n",
    "    if modality == 'all' or modality == 'video':\n",
    "        # Extract video data for the section.\n",
    "        # fps_video = 30 # 29.97\n",
    "        frame_start = round(start_time * fps_video)\n",
    "        frame_end = round(end_time * fps_video)\n",
    "        video_section = video[frame_start:frame_end]\n",
    "\n",
    "    if modality == 'all' or modality == 'transcript':\n",
    "        transcript_section = transcript['word'].iloc[index]\n",
    "                    \n",
    "        print(transcript_section)\n",
    "\n",
    "    return video_section, audio_section,  transcript_section\n",
    "\n"
   ]
  },
  {
   "cell_type": "markdown",
   "metadata": {},
   "source": [
    "### Load the model and experiment to see it's inputs and layers"
   ]
  },
  {
   "cell_type": "code",
   "execution_count": 10,
   "metadata": {
    "scrolled": true,
    "tags": []
   },
   "outputs": [
    {
     "name": "stderr",
     "output_type": "stream",
     "text": [
      "/tmp/ipykernel_3934037/1603866394.py:50: UserWarning: torchaudio._backend.set_audio_backend has been deprecated. With dispatcher enabled, this function is no-op. You can remove the function call.\n",
      "  torchaudio.set_audio_backend(\"ffmpeg\")\n"
     ]
    }
   ],
   "source": [
    "from transformers import WhisperModel, AutoProcessor, pipeline\n",
    "from datasets import load_dataset\n",
    "\n",
    "os.environ[\"HF_DATASETS_OFFLINE\"] = \"1\"\n",
    "os.environ[\"HF_HUB_OFFLINE\"] = \"1\"\n",
    "\n",
    "\n",
    "device = \"cuda:0\" if torch.cuda.is_available() else \"cpu\"\n",
    "torch_dtype = torch.float16 if torch.cuda.is_available() else torch.float32\n",
    "\n",
    "model_id = \"openai/whisper-large-v3\" #\"openai/whisper-small\"\n",
    "\n",
    "model = WhisperModel.from_pretrained(\n",
    "    model_id, torch_dtype=torch_dtype, low_cpu_mem_usage=False, use_safetensors=True\n",
    ")\n",
    "model.to(device)\n",
    "processor = AutoProcessor.from_pretrained(model_id)\n",
    "\n",
    "\n",
    "audio_test, sampling_rate = load_audio('/scratch/gpfs/ri4541/algonauts_2025.competitors/stimuli/movies/friends/s1/friends_s01e01a.mkv', sampling_rate = 16000, stereo = False)\n",
    "result = processor(audio_test[0][:int(sampling_rate*1.49)], sampling_rate = sampling_rate, return_tensors = 'pt')\n",
    "with torch.no_grad():\n",
    "    embeddings = model.encoder.forward(result['input_features'].half().to(device), output_hidden_states = True)"
   ]
  },
  {
   "cell_type": "code",
   "execution_count": 11,
   "metadata": {},
   "outputs": [
    {
     "data": {
      "text/plain": [
       "WhisperEncoder(\n",
       "  (conv1): Conv1d(128, 1280, kernel_size=(3,), stride=(1,), padding=(1,))\n",
       "  (conv2): Conv1d(1280, 1280, kernel_size=(3,), stride=(2,), padding=(1,))\n",
       "  (embed_positions): Embedding(1500, 1280)\n",
       "  (layers): ModuleList(\n",
       "    (0-31): 32 x WhisperEncoderLayer(\n",
       "      (self_attn): WhisperSdpaAttention(\n",
       "        (k_proj): Linear(in_features=1280, out_features=1280, bias=False)\n",
       "        (v_proj): Linear(in_features=1280, out_features=1280, bias=True)\n",
       "        (q_proj): Linear(in_features=1280, out_features=1280, bias=True)\n",
       "        (out_proj): Linear(in_features=1280, out_features=1280, bias=True)\n",
       "      )\n",
       "      (self_attn_layer_norm): LayerNorm((1280,), eps=1e-05, elementwise_affine=True)\n",
       "      (activation_fn): GELUActivation()\n",
       "      (fc1): Linear(in_features=1280, out_features=5120, bias=True)\n",
       "      (fc2): Linear(in_features=5120, out_features=1280, bias=True)\n",
       "      (final_layer_norm): LayerNorm((1280,), eps=1e-05, elementwise_affine=True)\n",
       "    )\n",
       "  )\n",
       "  (layer_norm): LayerNorm((1280,), eps=1e-05, elementwise_affine=True)\n",
       ")"
      ]
     },
     "execution_count": 11,
     "metadata": {},
     "output_type": "execute_result"
    }
   ],
   "source": [
    "model.encoder"
   ]
  },
  {
   "cell_type": "code",
   "execution_count": 12,
   "metadata": {},
   "outputs": [
    {
     "name": "stdout",
     "output_type": "stream",
     "text": [
      "Main model output (last_hidden_state) shape: torch.Size([1, 1500, 1280])\n",
      "Layer: layers.12.fc2, Feature shape: torch.Size([1, 1500, 1280])\n",
      "Layer: layers.25.fc2, Feature shape: torch.Size([1, 1500, 1280])\n",
      "Layer: layers.31.fc2, Feature shape: torch.Size([1, 1500, 1280])\n",
      "Layer: layer_norm, Feature shape: torch.Size([1, 1500, 1280])\n"
     ]
    }
   ],
   "source": [
    "layers_to_extract = [\"layer_norm\", 'layers.31.fc2', 'layers.25.fc2', 'layers.12.fc2']\n",
    "\n",
    "# Use the feature extractor as a context manager so that hooks are cleaned up automatically.\n",
    "with HuggingFaceFeatureExtractor(model.encoder, layers_to_extract, detach=True) as extractor:\n",
    "    with torch.no_grad():\n",
    "        # Run a forward pass. The extractor clears previous features automatically.\n",
    "        outputs = extractor(result['input_features'].half().to('cuda'))\n",
    "    \n",
    "        # Retrieve the extracted features.\n",
    "        features = extractor.features\n",
    "    \n",
    "        # Print out the shape of the main model output.\n",
    "        print(\"Main model output (last_hidden_state) shape:\", outputs.last_hidden_state.shape)\n",
    "    \n",
    "        # Iterate over the extracted features and print their shapes.\n",
    "        for layer_name, activation in features.items():\n",
    "            print(f\"Layer: {layer_name}, Feature shape: {activation.shape}\")\n"
   ]
  },
  {
   "cell_type": "markdown",
   "metadata": {},
   "source": [
    "### Define the extract_fn function"
   ]
  },
  {
   "cell_type": "code",
   "execution_count": 13,
   "metadata": {},
   "outputs": [],
   "source": [
    "from functools import wraps\n",
    "\n",
    "# Define the extractor.\n",
    "extractor = HuggingFaceFeatureExtractor(model.encoder, layers_to_extract, detach=True)\n",
    "\n",
    "def extract_fn(\n",
    "    video: torch.Tensor, \n",
    "    audio: torch.Tensor, \n",
    "    transcript: List[str], \n",
    "    verbose: bool\n",
    ") -> Dict[str, torch.Tensor]:\n",
    "    # Modify this function using the feature extractor\n",
    "    # video is a tensor with shape [fps * interval, 3, heigth, width] on fp16 from 0-255\n",
    "    # audio is a tensor with shape [1 if mono 2 if stereo, sampling_rate * interval] on fp16\n",
    "    # transcript is list of strings of words.\n",
    "    \n",
    "    with torch.no_grad():\n",
    "        inputs = processor(audio[0][:int(sampling_rate*1.49)], sampling_rate = sampling_rate, return_tensors = 'pt')\n",
    "        \n",
    "        # Perform feature extraction here\n",
    "        outputs = extractor(inputs['input_features'].half().to(device))\n",
    "\n",
    "    # Retrieve the extracted features.\n",
    "    features = extractor.features\n",
    "    dict_return = {}\n",
    "    for layer_name, activation in features.items():\n",
    "        # Taking the mean bcz the features are so large\n",
    "        dict_return[layer_name] = activation.mean(1)\n",
    "        \n",
    "    extractor.clear()\n",
    "    return dict_return"
   ]
  },
  {
   "cell_type": "markdown",
   "metadata": {},
   "source": [
    "### Start extracting features"
   ]
  },
  {
   "cell_type": "code",
   "execution_count": 15,
   "metadata": {
    "scrolled": true,
    "tags": []
   },
   "outputs": [
    {
     "name": "stdout",
     "output_type": "stream",
     "text": [
      "friends/s1\n",
      "Movie:      /scratch/gpfs/ri4541/algonauts_2025.competitors/stimuli/movies/friends/s1/friends_s01e14a.mkv\n",
      "Transcript: /scratch/gpfs/ri4541/algonauts_2025.competitors/stimuli/transcripts/friends/s1/friends_s01e14a.tsv\n"
     ]
    },
    {
     "name": "stderr",
     "output_type": "stream",
     "text": [
      "/tmp/ipykernel_3934037/1603866394.py:50: UserWarning: torchaudio._backend.set_audio_backend has been deprecated. With dispatcher enabled, this function is no-op. You can remove the function call.\n",
      "  torchaudio.set_audio_backend(\"ffmpeg\")\n"
     ]
    },
    {
     "name": "stdout",
     "output_type": "stream",
     "text": [
      "Total duration: 731.88 seconds\n",
      "Number of intervals: 491\n",
      "Output file: /scratch/gpfs/ri4541/algonauts2025/friends/s1/friends_s01e14a.h5\n"
     ]
    },
    {
     "name": "stderr",
     "output_type": "stream",
     "text": [
      "100%|██████████| 491/491 [00:15<00:00, 32.28it/s]\n"
     ]
    },
    {
     "name": "stdout",
     "output_type": "stream",
     "text": [
      "friends/s1\n",
      "Movie:      /scratch/gpfs/ri4541/algonauts_2025.competitors/stimuli/movies/friends/s1/friends_s01e23b.mkv\n",
      "Transcript: /scratch/gpfs/ri4541/algonauts_2025.competitors/stimuli/transcripts/friends/s1/friends_s01e23b.tsv\n",
      "Total duration: 687.50 seconds\n",
      "Number of intervals: 461\n",
      "Output file: /scratch/gpfs/ri4541/algonauts2025/friends/s1/friends_s01e23b.h5\n"
     ]
    },
    {
     "name": "stderr",
     "output_type": "stream",
     "text": [
      "100%|██████████| 461/461 [00:14<00:00, 32.42it/s]\n"
     ]
    },
    {
     "name": "stdout",
     "output_type": "stream",
     "text": [
      "friends/s1\n",
      "Movie:      /scratch/gpfs/ri4541/algonauts_2025.competitors/stimuli/movies/friends/s1/friends_s01e05b.mkv\n",
      "Transcript: /scratch/gpfs/ri4541/algonauts_2025.competitors/stimuli/transcripts/friends/s1/friends_s01e05b.tsv\n",
      "Total duration: 697.37 seconds\n",
      "Number of intervals: 468\n",
      "Output file: /scratch/gpfs/ri4541/algonauts2025/friends/s1/friends_s01e05b.h5\n"
     ]
    },
    {
     "name": "stderr",
     "output_type": "stream",
     "text": [
      "100%|██████████| 468/468 [00:14<00:00, 32.23it/s]\n"
     ]
    },
    {
     "name": "stdout",
     "output_type": "stream",
     "text": [
      "friends/s1\n",
      "Movie:      /scratch/gpfs/ri4541/algonauts_2025.competitors/stimuli/movies/friends/s1/friends_s01e04a.mkv\n",
      "Transcript: /scratch/gpfs/ri4541/algonauts_2025.competitors/stimuli/transcripts/friends/s1/friends_s01e04a.tsv\n",
      "Total duration: 749.11 seconds\n",
      "Number of intervals: 502\n",
      "Output file: /scratch/gpfs/ri4541/algonauts2025/friends/s1/friends_s01e04a.h5\n"
     ]
    },
    {
     "name": "stderr",
     "output_type": "stream",
     "text": [
      "100%|██████████| 502/502 [00:15<00:00, 32.32it/s]\n"
     ]
    },
    {
     "name": "stdout",
     "output_type": "stream",
     "text": [
      "friends/s1\n",
      "Movie:      /scratch/gpfs/ri4541/algonauts_2025.competitors/stimuli/movies/friends/s1/friends_s01e09a.mkv\n",
      "Transcript: /scratch/gpfs/ri4541/algonauts_2025.competitors/stimuli/transcripts/friends/s1/friends_s01e09a.tsv\n",
      "Total duration: 696.24 seconds\n",
      "Number of intervals: 467\n",
      "Output file: /scratch/gpfs/ri4541/algonauts2025/friends/s1/friends_s01e09a.h5\n"
     ]
    },
    {
     "name": "stderr",
     "output_type": "stream",
     "text": [
      "100%|██████████| 467/467 [00:14<00:00, 32.49it/s]\n"
     ]
    },
    {
     "name": "stdout",
     "output_type": "stream",
     "text": [
      "friends/s1\n",
      "Movie:      /scratch/gpfs/ri4541/algonauts_2025.competitors/stimuli/movies/friends/s1/friends_s01e22b.mkv\n",
      "Transcript: /scratch/gpfs/ri4541/algonauts_2025.competitors/stimuli/transcripts/friends/s1/friends_s01e22b.tsv\n",
      "Total duration: 705.98 seconds\n",
      "Number of intervals: 473\n",
      "Output file: /scratch/gpfs/ri4541/algonauts2025/friends/s1/friends_s01e22b.h5\n"
     ]
    },
    {
     "name": "stderr",
     "output_type": "stream",
     "text": [
      "100%|██████████| 473/473 [00:14<00:00, 32.36it/s]\n"
     ]
    },
    {
     "name": "stdout",
     "output_type": "stream",
     "text": [
      "friends/s1\n",
      "Movie:      /scratch/gpfs/ri4541/algonauts_2025.competitors/stimuli/movies/friends/s1/friends_s01e20b.mkv\n",
      "Transcript: /scratch/gpfs/ri4541/algonauts_2025.competitors/stimuli/transcripts/friends/s1/friends_s01e20b.tsv\n",
      "Total duration: 685.49 seconds\n",
      "Number of intervals: 460\n",
      "Output file: /scratch/gpfs/ri4541/algonauts2025/friends/s1/friends_s01e20b.h5\n"
     ]
    },
    {
     "name": "stderr",
     "output_type": "stream",
     "text": [
      "100%|██████████| 460/460 [00:14<00:00, 32.31it/s]\n"
     ]
    },
    {
     "name": "stdout",
     "output_type": "stream",
     "text": [
      "friends/s1\n",
      "Movie:      /scratch/gpfs/ri4541/algonauts_2025.competitors/stimuli/movies/friends/s1/friends_s01e16a.mkv\n",
      "Transcript: /scratch/gpfs/ri4541/algonauts_2025.competitors/stimuli/transcripts/friends/s1/friends_s01e16a.tsv\n",
      "Total duration: 719.33 seconds\n",
      "Number of intervals: 482\n",
      "Output file: /scratch/gpfs/ri4541/algonauts2025/friends/s1/friends_s01e16a.h5\n"
     ]
    },
    {
     "name": "stderr",
     "output_type": "stream",
     "text": [
      "100%|██████████| 482/482 [00:14<00:00, 32.38it/s]\n"
     ]
    },
    {
     "name": "stdout",
     "output_type": "stream",
     "text": [
      "friends/s1\n",
      "Movie:      /scratch/gpfs/ri4541/algonauts_2025.competitors/stimuli/movies/friends/s1/friends_s01e06a.mkv\n",
      "Transcript: /scratch/gpfs/ri4541/algonauts_2025.competitors/stimuli/transcripts/friends/s1/friends_s01e06a.tsv\n",
      "Total duration: 727.37 seconds\n",
      "Number of intervals: 488\n",
      "Output file: /scratch/gpfs/ri4541/algonauts2025/friends/s1/friends_s01e06a.h5\n"
     ]
    },
    {
     "name": "stderr",
     "output_type": "stream",
     "text": [
      "100%|██████████| 488/488 [00:15<00:00, 32.38it/s]\n"
     ]
    },
    {
     "name": "stdout",
     "output_type": "stream",
     "text": [
      "friends/s1\n",
      "Movie:      /scratch/gpfs/ri4541/algonauts_2025.competitors/stimuli/movies/friends/s1/friends_s01e01a.mkv\n",
      "Transcript: /scratch/gpfs/ri4541/algonauts_2025.competitors/stimuli/transcripts/friends/s1/friends_s01e01a.tsv\n",
      "Total duration: 881.33 seconds\n",
      "Number of intervals: 591\n",
      "Output file: /scratch/gpfs/ri4541/algonauts2025/friends/s1/friends_s01e01a.h5\n"
     ]
    },
    {
     "name": "stderr",
     "output_type": "stream",
     "text": [
      "100%|██████████| 591/591 [00:18<00:00, 32.34it/s]\n"
     ]
    },
    {
     "name": "stdout",
     "output_type": "stream",
     "text": [
      "friends/s1\n",
      "Movie:      /scratch/gpfs/ri4541/algonauts_2025.competitors/stimuli/movies/friends/s1/friends_s01e08a.mkv\n",
      "Transcript: /scratch/gpfs/ri4541/algonauts_2025.competitors/stimuli/transcripts/friends/s1/friends_s01e08a.tsv\n",
      "Total duration: 708.14 seconds\n",
      "Number of intervals: 475\n",
      "Output file: /scratch/gpfs/ri4541/algonauts2025/friends/s1/friends_s01e08a.h5\n"
     ]
    },
    {
     "name": "stderr",
     "output_type": "stream",
     "text": [
      "100%|██████████| 475/475 [00:14<00:00, 32.47it/s]\n"
     ]
    },
    {
     "name": "stdout",
     "output_type": "stream",
     "text": [
      "friends/s1\n",
      "Movie:      /scratch/gpfs/ri4541/algonauts_2025.competitors/stimuli/movies/friends/s1/friends_s01e05a.mkv\n",
      "Transcript: /scratch/gpfs/ri4541/algonauts_2025.competitors/stimuli/transcripts/friends/s1/friends_s01e05a.tsv\n",
      "Total duration: 697.46 seconds\n",
      "Number of intervals: 468\n",
      "Output file: /scratch/gpfs/ri4541/algonauts2025/friends/s1/friends_s01e05a.h5\n"
     ]
    },
    {
     "name": "stderr",
     "output_type": "stream",
     "text": [
      "100%|██████████| 468/468 [00:14<00:00, 32.45it/s]\n"
     ]
    },
    {
     "name": "stdout",
     "output_type": "stream",
     "text": [
      "friends/s1\n",
      "Movie:      /scratch/gpfs/ri4541/algonauts_2025.competitors/stimuli/movies/friends/s1/friends_s01e13a.mkv\n",
      "Transcript: /scratch/gpfs/ri4541/algonauts_2025.competitors/stimuli/transcripts/friends/s1/friends_s01e13a.tsv\n",
      "Total duration: 697.37 seconds\n",
      "Number of intervals: 468\n",
      "Output file: /scratch/gpfs/ri4541/algonauts2025/friends/s1/friends_s01e13a.h5\n"
     ]
    },
    {
     "name": "stderr",
     "output_type": "stream",
     "text": [
      "100%|██████████| 468/468 [00:14<00:00, 32.28it/s]\n"
     ]
    },
    {
     "name": "stdout",
     "output_type": "stream",
     "text": [
      "friends/s1\n",
      "Movie:      /scratch/gpfs/ri4541/algonauts_2025.competitors/stimuli/movies/friends/s1/friends_s01e21b.mkv\n",
      "Transcript: /scratch/gpfs/ri4541/algonauts_2025.competitors/stimuli/transcripts/friends/s1/friends_s01e21b.tsv\n",
      "Total duration: 710.52 seconds\n",
      "Number of intervals: 476\n",
      "Output file: /scratch/gpfs/ri4541/algonauts2025/friends/s1/friends_s01e21b.h5\n"
     ]
    },
    {
     "name": "stderr",
     "output_type": "stream",
     "text": [
      "100%|██████████| 476/476 [00:14<00:00, 32.51it/s]\n"
     ]
    },
    {
     "name": "stdout",
     "output_type": "stream",
     "text": [
      "friends/s1\n",
      "Movie:      /scratch/gpfs/ri4541/algonauts_2025.competitors/stimuli/movies/friends/s1/friends_s01e03b.mkv\n",
      "Transcript: /scratch/gpfs/ri4541/algonauts_2025.competitors/stimuli/transcripts/friends/s1/friends_s01e03b.tsv\n",
      "Total duration: 703.32 seconds\n",
      "Number of intervals: 472\n",
      "Output file: /scratch/gpfs/ri4541/algonauts2025/friends/s1/friends_s01e03b.h5\n"
     ]
    },
    {
     "name": "stderr",
     "output_type": "stream",
     "text": [
      "100%|██████████| 472/472 [00:14<00:00, 32.48it/s]\n"
     ]
    },
    {
     "name": "stdout",
     "output_type": "stream",
     "text": [
      "friends/s1\n",
      "Movie:      /scratch/gpfs/ri4541/algonauts_2025.competitors/stimuli/movies/friends/s1/friends_s01e11a.mkv\n",
      "Transcript: /scratch/gpfs/ri4541/algonauts_2025.competitors/stimuli/transcripts/friends/s1/friends_s01e11a.tsv\n",
      "Total duration: 710.18 seconds\n",
      "Number of intervals: 476\n",
      "Output file: /scratch/gpfs/ri4541/algonauts2025/friends/s1/friends_s01e11a.h5\n"
     ]
    },
    {
     "name": "stderr",
     "output_type": "stream",
     "text": [
      "100%|██████████| 476/476 [00:14<00:00, 32.42it/s]\n"
     ]
    },
    {
     "name": "stdout",
     "output_type": "stream",
     "text": [
      "friends/s1\n",
      "Movie:      /scratch/gpfs/ri4541/algonauts_2025.competitors/stimuli/movies/friends/s1/friends_s01e11b.mkv\n",
      "Transcript: /scratch/gpfs/ri4541/algonauts_2025.competitors/stimuli/transcripts/friends/s1/friends_s01e11b.tsv\n",
      "Total duration: 710.09 seconds\n",
      "Number of intervals: 476\n",
      "Output file: /scratch/gpfs/ri4541/algonauts2025/friends/s1/friends_s01e11b.h5\n"
     ]
    },
    {
     "name": "stderr",
     "output_type": "stream",
     "text": [
      "100%|██████████| 476/476 [00:14<00:00, 32.20it/s]\n"
     ]
    },
    {
     "name": "stdout",
     "output_type": "stream",
     "text": [
      "friends/s1\n",
      "Movie:      /scratch/gpfs/ri4541/algonauts_2025.competitors/stimuli/movies/friends/s1/friends_s01e21a.mkv\n",
      "Transcript: /scratch/gpfs/ri4541/algonauts_2025.competitors/stimuli/transcripts/friends/s1/friends_s01e21a.tsv\n",
      "Total duration: 710.59 seconds\n",
      "Number of intervals: 476\n",
      "Output file: /scratch/gpfs/ri4541/algonauts2025/friends/s1/friends_s01e21a.h5\n"
     ]
    },
    {
     "name": "stderr",
     "output_type": "stream",
     "text": [
      "100%|██████████| 476/476 [00:14<00:00, 32.34it/s]\n"
     ]
    },
    {
     "name": "stdout",
     "output_type": "stream",
     "text": [
      "friends/s1\n",
      "Movie:      /scratch/gpfs/ri4541/algonauts_2025.competitors/stimuli/movies/friends/s1/friends_s01e07a.mkv\n",
      "Transcript: /scratch/gpfs/ri4541/algonauts_2025.competitors/stimuli/transcripts/friends/s1/friends_s01e07a.tsv\n",
      "Total duration: 734.18 seconds\n",
      "Number of intervals: 492\n",
      "Output file: /scratch/gpfs/ri4541/algonauts2025/friends/s1/friends_s01e07a.h5\n"
     ]
    },
    {
     "name": "stderr",
     "output_type": "stream",
     "text": [
      "100%|██████████| 492/492 [00:15<00:00, 32.35it/s]\n"
     ]
    },
    {
     "name": "stdout",
     "output_type": "stream",
     "text": [
      "friends/s1\n",
      "Movie:      /scratch/gpfs/ri4541/algonauts_2025.competitors/stimuli/movies/friends/s1/friends_s01e03a.mkv\n",
      "Transcript: /scratch/gpfs/ri4541/algonauts_2025.competitors/stimuli/transcripts/friends/s1/friends_s01e03a.tsv\n",
      "Total duration: 703.37 seconds\n",
      "Number of intervals: 472\n",
      "Output file: /scratch/gpfs/ri4541/algonauts2025/friends/s1/friends_s01e03a.h5\n"
     ]
    },
    {
     "name": "stderr",
     "output_type": "stream",
     "text": [
      "100%|██████████| 472/472 [00:14<00:00, 32.35it/s]\n"
     ]
    },
    {
     "name": "stdout",
     "output_type": "stream",
     "text": [
      "friends/s1\n",
      "Movie:      /scratch/gpfs/ri4541/algonauts_2025.competitors/stimuli/movies/friends/s1/friends_s01e20a.mkv\n",
      "Transcript: /scratch/gpfs/ri4541/algonauts_2025.competitors/stimuli/transcripts/friends/s1/friends_s01e20a.tsv\n",
      "Total duration: 685.56 seconds\n",
      "Number of intervals: 460\n",
      "Output file: /scratch/gpfs/ri4541/algonauts2025/friends/s1/friends_s01e20a.h5\n"
     ]
    },
    {
     "name": "stderr",
     "output_type": "stream",
     "text": [
      "100%|██████████| 460/460 [00:14<00:00, 32.38it/s]\n"
     ]
    },
    {
     "name": "stdout",
     "output_type": "stream",
     "text": [
      "friends/s1\n",
      "Movie:      /scratch/gpfs/ri4541/algonauts_2025.competitors/stimuli/movies/friends/s1/friends_s01e07b.mkv\n",
      "Transcript: /scratch/gpfs/ri4541/algonauts_2025.competitors/stimuli/transcripts/friends/s1/friends_s01e07b.tsv\n",
      "Total duration: 734.11 seconds\n",
      "Number of intervals: 492\n",
      "Output file: /scratch/gpfs/ri4541/algonauts2025/friends/s1/friends_s01e07b.h5\n"
     ]
    },
    {
     "name": "stderr",
     "output_type": "stream",
     "text": [
      "100%|██████████| 492/492 [00:15<00:00, 32.35it/s]\n"
     ]
    },
    {
     "name": "stdout",
     "output_type": "stream",
     "text": [
      "friends/s1\n",
      "Movie:      /scratch/gpfs/ri4541/algonauts_2025.competitors/stimuli/movies/friends/s1/friends_s01e19b.mkv\n",
      "Transcript: /scratch/gpfs/ri4541/algonauts_2025.competitors/stimuli/transcripts/friends/s1/friends_s01e19b.tsv\n",
      "Total duration: 685.49 seconds\n",
      "Number of intervals: 460\n",
      "Output file: /scratch/gpfs/ri4541/algonauts2025/friends/s1/friends_s01e19b.h5\n"
     ]
    },
    {
     "name": "stderr",
     "output_type": "stream",
     "text": [
      "100%|██████████| 460/460 [00:14<00:00, 32.31it/s]\n"
     ]
    },
    {
     "name": "stdout",
     "output_type": "stream",
     "text": [
      "friends/s1\n",
      "Movie:      /scratch/gpfs/ri4541/algonauts_2025.competitors/stimuli/movies/friends/s1/friends_s01e19a.mkv\n",
      "Transcript: /scratch/gpfs/ri4541/algonauts_2025.competitors/stimuli/transcripts/friends/s1/friends_s01e19a.tsv\n",
      "Total duration: 685.56 seconds\n",
      "Number of intervals: 460\n",
      "Output file: /scratch/gpfs/ri4541/algonauts2025/friends/s1/friends_s01e19a.h5\n"
     ]
    },
    {
     "name": "stderr",
     "output_type": "stream",
     "text": [
      "100%|██████████| 460/460 [00:14<00:00, 32.49it/s]\n"
     ]
    },
    {
     "name": "stdout",
     "output_type": "stream",
     "text": [
      "friends/s1\n",
      "Movie:      /scratch/gpfs/ri4541/algonauts_2025.competitors/stimuli/movies/friends/s1/friends_s01e09b.mkv\n",
      "Transcript: /scratch/gpfs/ri4541/algonauts_2025.competitors/stimuli/transcripts/friends/s1/friends_s01e09b.tsv\n",
      "Total duration: 696.17 seconds\n",
      "Number of intervals: 467\n",
      "Output file: /scratch/gpfs/ri4541/algonauts2025/friends/s1/friends_s01e09b.h5\n"
     ]
    },
    {
     "name": "stderr",
     "output_type": "stream",
     "text": [
      "100%|██████████| 467/467 [00:14<00:00, 32.48it/s]\n"
     ]
    },
    {
     "name": "stdout",
     "output_type": "stream",
     "text": [
      "friends/s1\n",
      "Movie:      /scratch/gpfs/ri4541/algonauts_2025.competitors/stimuli/movies/friends/s1/friends_s01e12b.mkv\n",
      "Transcript: /scratch/gpfs/ri4541/algonauts_2025.competitors/stimuli/transcripts/friends/s1/friends_s01e12b.tsv\n",
      "Total duration: 701.95 seconds\n",
      "Number of intervals: 471\n",
      "Output file: /scratch/gpfs/ri4541/algonauts2025/friends/s1/friends_s01e12b.h5\n"
     ]
    },
    {
     "name": "stderr",
     "output_type": "stream",
     "text": [
      "100%|██████████| 471/471 [00:14<00:00, 32.40it/s]\n"
     ]
    },
    {
     "name": "stdout",
     "output_type": "stream",
     "text": [
      "friends/s1\n",
      "Movie:      /scratch/gpfs/ri4541/algonauts_2025.competitors/stimuli/movies/friends/s1/friends_s01e14b.mkv\n",
      "Transcript: /scratch/gpfs/ri4541/algonauts_2025.competitors/stimuli/transcripts/friends/s1/friends_s01e14b.tsv\n",
      "Total duration: 731.81 seconds\n",
      "Number of intervals: 491\n",
      "Output file: /scratch/gpfs/ri4541/algonauts2025/friends/s1/friends_s01e14b.h5\n"
     ]
    },
    {
     "name": "stderr",
     "output_type": "stream",
     "text": [
      "100%|██████████| 491/491 [00:15<00:00, 32.47it/s]\n"
     ]
    },
    {
     "name": "stdout",
     "output_type": "stream",
     "text": [
      "friends/s1\n",
      "Movie:      /scratch/gpfs/ri4541/algonauts_2025.competitors/stimuli/movies/friends/s1/friends_s01e12a.mkv\n",
      "Transcript: /scratch/gpfs/ri4541/algonauts_2025.competitors/stimuli/transcripts/friends/s1/friends_s01e12a.tsv\n",
      "Total duration: 702.00 seconds\n",
      "Number of intervals: 471\n",
      "Output file: /scratch/gpfs/ri4541/algonauts2025/friends/s1/friends_s01e12a.h5\n"
     ]
    },
    {
     "name": "stderr",
     "output_type": "stream",
     "text": [
      "100%|██████████| 471/471 [00:14<00:00, 32.52it/s]\n"
     ]
    },
    {
     "name": "stdout",
     "output_type": "stream",
     "text": [
      "friends/s1\n",
      "Movie:      /scratch/gpfs/ri4541/algonauts_2025.competitors/stimuli/movies/friends/s1/friends_s01e02a.mkv\n",
      "Transcript: /scratch/gpfs/ri4541/algonauts_2025.competitors/stimuli/transcripts/friends/s1/friends_s01e02a.tsv\n",
      "Total duration: 718.75 seconds\n",
      "Number of intervals: 482\n",
      "Output file: /scratch/gpfs/ri4541/algonauts2025/friends/s1/friends_s01e02a.h5\n"
     ]
    },
    {
     "name": "stderr",
     "output_type": "stream",
     "text": [
      "100%|██████████| 482/482 [00:14<00:00, 32.29it/s]\n"
     ]
    },
    {
     "name": "stdout",
     "output_type": "stream",
     "text": [
      "friends/s1\n",
      "Movie:      /scratch/gpfs/ri4541/algonauts_2025.competitors/stimuli/movies/friends/s1/friends_s01e18a.mkv\n",
      "Transcript: /scratch/gpfs/ri4541/algonauts_2025.competitors/stimuli/transcripts/friends/s1/friends_s01e18a.tsv\n",
      "Total duration: 740.35 seconds\n",
      "Number of intervals: 496\n",
      "Output file: /scratch/gpfs/ri4541/algonauts2025/friends/s1/friends_s01e18a.h5\n"
     ]
    },
    {
     "name": "stderr",
     "output_type": "stream",
     "text": [
      "100%|██████████| 496/496 [00:15<00:00, 32.47it/s]\n"
     ]
    },
    {
     "name": "stdout",
     "output_type": "stream",
     "text": [
      "friends/s1\n",
      "Movie:      /scratch/gpfs/ri4541/algonauts_2025.competitors/stimuli/movies/friends/s1/friends_s01e15a.mkv\n",
      "Transcript: /scratch/gpfs/ri4541/algonauts_2025.competitors/stimuli/transcripts/friends/s1/friends_s01e15a.tsv\n",
      "Total duration: 710.35 seconds\n",
      "Number of intervals: 476\n",
      "Output file: /scratch/gpfs/ri4541/algonauts2025/friends/s1/friends_s01e15a.h5\n"
     ]
    },
    {
     "name": "stderr",
     "output_type": "stream",
     "text": [
      "100%|██████████| 476/476 [00:14<00:00, 32.56it/s]\n"
     ]
    },
    {
     "name": "stdout",
     "output_type": "stream",
     "text": [
      "friends/s1\n",
      "Movie:      /scratch/gpfs/ri4541/algonauts_2025.competitors/stimuli/movies/friends/s1/friends_s01e06b.mkv\n",
      "Transcript: /scratch/gpfs/ri4541/algonauts_2025.competitors/stimuli/transcripts/friends/s1/friends_s01e06b.tsv\n",
      "Total duration: 727.30 seconds\n",
      "Number of intervals: 488\n",
      "Output file: /scratch/gpfs/ri4541/algonauts2025/friends/s1/friends_s01e06b.h5\n"
     ]
    },
    {
     "name": "stderr",
     "output_type": "stream",
     "text": [
      "100%|██████████| 488/488 [00:15<00:00, 32.50it/s]\n"
     ]
    },
    {
     "name": "stdout",
     "output_type": "stream",
     "text": [
      "friends/s1\n",
      "Movie:      /scratch/gpfs/ri4541/algonauts_2025.competitors/stimuli/movies/friends/s1/friends_s01e17a.mkv\n",
      "Transcript: /scratch/gpfs/ri4541/algonauts_2025.competitors/stimuli/transcripts/friends/s1/friends_s01e17a.tsv\n",
      "Total duration: 719.23 seconds\n",
      "Number of intervals: 482\n",
      "Output file: /scratch/gpfs/ri4541/algonauts2025/friends/s1/friends_s01e17a.h5\n"
     ]
    },
    {
     "name": "stderr",
     "output_type": "stream",
     "text": [
      "100%|██████████| 482/482 [00:14<00:00, 32.39it/s]\n"
     ]
    },
    {
     "name": "stdout",
     "output_type": "stream",
     "text": [
      "friends/s1\n",
      "Movie:      /scratch/gpfs/ri4541/algonauts_2025.competitors/stimuli/movies/friends/s1/friends_s01e15b.mkv\n",
      "Transcript: /scratch/gpfs/ri4541/algonauts_2025.competitors/stimuli/transcripts/friends/s1/friends_s01e15b.tsv\n",
      "Total duration: 710.26 seconds\n",
      "Number of intervals: 476\n",
      "Output file: /scratch/gpfs/ri4541/algonauts2025/friends/s1/friends_s01e15b.h5\n"
     ]
    },
    {
     "name": "stderr",
     "output_type": "stream",
     "text": [
      "100%|██████████| 476/476 [00:14<00:00, 32.50it/s]\n"
     ]
    },
    {
     "name": "stdout",
     "output_type": "stream",
     "text": [
      "friends/s1\n",
      "Movie:      /scratch/gpfs/ri4541/algonauts_2025.competitors/stimuli/movies/friends/s1/friends_s01e13b.mkv\n",
      "Transcript: /scratch/gpfs/ri4541/algonauts_2025.competitors/stimuli/transcripts/friends/s1/friends_s01e13b.tsv\n",
      "Total duration: 697.30 seconds\n",
      "Number of intervals: 467\n",
      "Output file: /scratch/gpfs/ri4541/algonauts2025/friends/s1/friends_s01e13b.h5\n"
     ]
    },
    {
     "name": "stderr",
     "output_type": "stream",
     "text": [
      "100%|██████████| 467/467 [00:14<00:00, 32.48it/s]\n"
     ]
    },
    {
     "name": "stdout",
     "output_type": "stream",
     "text": [
      "friends/s1\n",
      "Movie:      /scratch/gpfs/ri4541/algonauts_2025.competitors/stimuli/movies/friends/s1/friends_s01e10b.mkv\n",
      "Transcript: /scratch/gpfs/ri4541/algonauts_2025.competitors/stimuli/transcripts/friends/s1/friends_s01e10b.tsv\n",
      "Total duration: 738.24 seconds\n",
      "Number of intervals: 495\n",
      "Output file: /scratch/gpfs/ri4541/algonauts2025/friends/s1/friends_s01e10b.h5\n"
     ]
    },
    {
     "name": "stderr",
     "output_type": "stream",
     "text": [
      "100%|██████████| 495/495 [00:15<00:00, 32.29it/s]\n"
     ]
    },
    {
     "name": "stdout",
     "output_type": "stream",
     "text": [
      "friends/s1\n",
      "Movie:      /scratch/gpfs/ri4541/algonauts_2025.competitors/stimuli/movies/friends/s1/friends_s01e16b.mkv\n",
      "Transcript: /scratch/gpfs/ri4541/algonauts_2025.competitors/stimuli/transcripts/friends/s1/friends_s01e16b.tsv\n",
      "Total duration: 719.23 seconds\n",
      "Number of intervals: 482\n",
      "Output file: /scratch/gpfs/ri4541/algonauts2025/friends/s1/friends_s01e16b.h5\n"
     ]
    },
    {
     "name": "stderr",
     "output_type": "stream",
     "text": [
      "100%|██████████| 482/482 [00:14<00:00, 32.30it/s]\n"
     ]
    },
    {
     "name": "stdout",
     "output_type": "stream",
     "text": [
      "friends/s1\n",
      "Movie:      /scratch/gpfs/ri4541/algonauts_2025.competitors/stimuli/movies/friends/s1/friends_s01e23a.mkv\n",
      "Transcript: /scratch/gpfs/ri4541/algonauts_2025.competitors/stimuli/transcripts/friends/s1/friends_s01e23a.tsv\n",
      "Total duration: 687.55 seconds\n",
      "Number of intervals: 461\n",
      "Output file: /scratch/gpfs/ri4541/algonauts2025/friends/s1/friends_s01e23a.h5\n"
     ]
    },
    {
     "name": "stderr",
     "output_type": "stream",
     "text": [
      "100%|██████████| 461/461 [00:14<00:00, 32.51it/s]\n"
     ]
    },
    {
     "name": "stdout",
     "output_type": "stream",
     "text": [
      "friends/s1\n",
      "Movie:      /scratch/gpfs/ri4541/algonauts_2025.competitors/stimuli/movies/friends/s1/friends_s01e24a.mkv\n",
      "Transcript: /scratch/gpfs/ri4541/algonauts_2025.competitors/stimuli/transcripts/friends/s1/friends_s01e24a.tsv\n",
      "Total duration: 766.63 seconds\n",
      "Number of intervals: 514\n",
      "Output file: /scratch/gpfs/ri4541/algonauts2025/friends/s1/friends_s01e24a.h5\n"
     ]
    },
    {
     "name": "stderr",
     "output_type": "stream",
     "text": [
      "100%|██████████| 514/514 [00:15<00:00, 32.39it/s]\n"
     ]
    },
    {
     "name": "stdout",
     "output_type": "stream",
     "text": [
      "friends/s1\n",
      "Movie:      /scratch/gpfs/ri4541/algonauts_2025.competitors/stimuli/movies/friends/s1/friends_s01e17b.mkv\n",
      "Transcript: /scratch/gpfs/ri4541/algonauts_2025.competitors/stimuli/transcripts/friends/s1/friends_s01e17b.tsv\n",
      "Total duration: 719.26 seconds\n",
      "Number of intervals: 482\n",
      "Output file: /scratch/gpfs/ri4541/algonauts2025/friends/s1/friends_s01e17b.h5\n"
     ]
    },
    {
     "name": "stderr",
     "output_type": "stream",
     "text": [
      "100%|██████████| 482/482 [00:15<00:00, 32.00it/s]\n"
     ]
    },
    {
     "name": "stdout",
     "output_type": "stream",
     "text": [
      "friends/s1\n",
      "Movie:      /scratch/gpfs/ri4541/algonauts_2025.competitors/stimuli/movies/friends/s1/friends_s01e02b.mkv\n",
      "Transcript: /scratch/gpfs/ri4541/algonauts_2025.competitors/stimuli/transcripts/friends/s1/friends_s01e02b.tsv\n",
      "Total duration: 718.68 seconds\n",
      "Number of intervals: 482\n",
      "Output file: /scratch/gpfs/ri4541/algonauts2025/friends/s1/friends_s01e02b.h5\n"
     ]
    },
    {
     "name": "stderr",
     "output_type": "stream",
     "text": [
      "100%|██████████| 482/482 [00:14<00:00, 32.54it/s]\n"
     ]
    },
    {
     "name": "stdout",
     "output_type": "stream",
     "text": [
      "friends/s1\n",
      "Movie:      /scratch/gpfs/ri4541/algonauts_2025.competitors/stimuli/movies/friends/s1/friends_s01e18b.mkv\n",
      "Transcript: /scratch/gpfs/ri4541/algonauts_2025.competitors/stimuli/transcripts/friends/s1/friends_s01e18b.tsv\n",
      "Total duration: 740.28 seconds\n",
      "Number of intervals: 496\n",
      "Output file: /scratch/gpfs/ri4541/algonauts2025/friends/s1/friends_s01e18b.h5\n"
     ]
    },
    {
     "name": "stderr",
     "output_type": "stream",
     "text": [
      "100%|██████████| 496/496 [00:15<00:00, 32.37it/s]\n"
     ]
    },
    {
     "name": "stdout",
     "output_type": "stream",
     "text": [
      "friends/s1\n",
      "Movie:      /scratch/gpfs/ri4541/algonauts_2025.competitors/stimuli/movies/friends/s1/friends_s01e24b.mkv\n",
      "Transcript: /scratch/gpfs/ri4541/algonauts_2025.competitors/stimuli/transcripts/friends/s1/friends_s01e24b.tsv\n",
      "Total duration: 766.58 seconds\n",
      "Number of intervals: 514\n",
      "Output file: /scratch/gpfs/ri4541/algonauts2025/friends/s1/friends_s01e24b.h5\n"
     ]
    },
    {
     "name": "stderr",
     "output_type": "stream",
     "text": [
      "100%|██████████| 514/514 [00:15<00:00, 32.32it/s]\n"
     ]
    },
    {
     "name": "stdout",
     "output_type": "stream",
     "text": [
      "friends/s1\n",
      "Movie:      /scratch/gpfs/ri4541/algonauts_2025.competitors/stimuli/movies/friends/s1/friends_s01e01b.mkv\n",
      "Transcript: /scratch/gpfs/ri4541/algonauts_2025.competitors/stimuli/transcripts/friends/s1/friends_s01e01b.tsv\n",
      "Total duration: 879.29 seconds\n",
      "Number of intervals: 590\n",
      "Output file: /scratch/gpfs/ri4541/algonauts2025/friends/s1/friends_s01e01b.h5\n"
     ]
    },
    {
     "name": "stderr",
     "output_type": "stream",
     "text": [
      "100%|██████████| 590/590 [00:18<00:00, 32.27it/s]\n"
     ]
    },
    {
     "name": "stdout",
     "output_type": "stream",
     "text": [
      "friends/s1\n",
      "Movie:      /scratch/gpfs/ri4541/algonauts_2025.competitors/stimuli/movies/friends/s1/friends_s01e08b.mkv\n",
      "Transcript: /scratch/gpfs/ri4541/algonauts_2025.competitors/stimuli/transcripts/friends/s1/friends_s01e08b.tsv\n",
      "Total duration: 708.07 seconds\n",
      "Number of intervals: 475\n",
      "Output file: /scratch/gpfs/ri4541/algonauts2025/friends/s1/friends_s01e08b.h5\n"
     ]
    },
    {
     "name": "stderr",
     "output_type": "stream",
     "text": [
      "100%|██████████| 475/475 [00:14<00:00, 32.37it/s]\n"
     ]
    },
    {
     "name": "stdout",
     "output_type": "stream",
     "text": [
      "friends/s1\n",
      "Movie:      /scratch/gpfs/ri4541/algonauts_2025.competitors/stimuli/movies/friends/s1/friends_s01e10a.mkv\n",
      "Transcript: /scratch/gpfs/ri4541/algonauts_2025.competitors/stimuli/transcripts/friends/s1/friends_s01e10a.tsv\n",
      "Total duration: 738.34 seconds\n",
      "Number of intervals: 495\n",
      "Output file: /scratch/gpfs/ri4541/algonauts2025/friends/s1/friends_s01e10a.h5\n"
     ]
    },
    {
     "name": "stderr",
     "output_type": "stream",
     "text": [
      "100%|██████████| 495/495 [00:15<00:00, 32.49it/s]\n"
     ]
    },
    {
     "name": "stdout",
     "output_type": "stream",
     "text": [
      "friends/s1\n",
      "Movie:      /scratch/gpfs/ri4541/algonauts_2025.competitors/stimuli/movies/friends/s1/friends_s01e04b.mkv\n",
      "Transcript: /scratch/gpfs/ri4541/algonauts_2025.competitors/stimuli/transcripts/friends/s1/friends_s01e04b.tsv\n",
      "Total duration: 749.06 seconds\n",
      "Number of intervals: 502\n",
      "Output file: /scratch/gpfs/ri4541/algonauts2025/friends/s1/friends_s01e04b.h5\n"
     ]
    },
    {
     "name": "stderr",
     "output_type": "stream",
     "text": [
      "100%|██████████| 502/502 [00:15<00:00, 32.29it/s]\n"
     ]
    },
    {
     "name": "stdout",
     "output_type": "stream",
     "text": [
      "friends/s1\n",
      "Movie:      /scratch/gpfs/ri4541/algonauts_2025.competitors/stimuli/movies/friends/s1/friends_s01e22a.mkv\n",
      "Transcript: /scratch/gpfs/ri4541/algonauts_2025.competitors/stimuli/transcripts/friends/s1/friends_s01e22a.tsv\n",
      "Total duration: 706.06 seconds\n",
      "Number of intervals: 473\n",
      "Output file: /scratch/gpfs/ri4541/algonauts2025/friends/s1/friends_s01e22a.h5\n"
     ]
    },
    {
     "name": "stderr",
     "output_type": "stream",
     "text": [
      "100%|██████████| 473/473 [00:14<00:00, 32.43it/s]\n"
     ]
    }
   ],
   "source": [
    "# Example usage:\n",
    "parts = ['s1'] # ['s1', 's2', 's3', 's5', 's6', 's7', 'wolf', 'life', 'bourne', 'figures'] \n",
    "movies_base = \"/scratch/gpfs/ri4541//algonauts_2025.competitors/stimuli/movies\"\n",
    "transcripts_base = \"/scratch/gpfs/ri4541//algonauts_2025.competitors/stimuli/transcripts\"\n",
    "out_dir = '/scratch/gpfs/ri4541/algonauts2025'\n",
    "\n",
    "\n",
    "extract_features(parts = parts, movies_base = movies_base, transcripts_base = transcripts_base, output_dir = out_dir, extraction_fn = extract_fn, verbose = True, modality = 'audio')"
   ]
  },
  {
   "cell_type": "code",
   "execution_count": null,
   "metadata": {},
   "outputs": [],
   "source": [
    "# import h5py\n",
    "# import numpy as np\n",
    "\n",
    "# # Path to the generated h5 file.\n",
    "# file_path = '/kaggle/working/friends/s1/friends_s01e21b.h5'\n",
    "\n",
    "# with h5py.File(file_path, 'r') as f:\n",
    "#     print(\"Datasets in the file:\")\n",
    "#     for layer_name in f.keys():\n",
    "#         dataset = f[layer_name]\n",
    "#         print(f\"Layer: {layer_name}\")\n",
    "#         print(f\" - Shape: {dataset.shape}\")\n",
    "#         print(f\" - Data type: {dataset.dtype}\")\n",
    "        \n",
    "#         num_intervals_to_print = min(5, dataset.shape[0])\n",
    "#         for i in range(num_intervals_to_print):\n",
    "#             # Get the i-th interval data, flatten it, and print the first 5 elements.\n",
    "#             interval_data = dataset[i]\n",
    "#             flat_data = interval_data.flatten()\n",
    "#             first_five = flat_data[:5] if flat_data.size >= 5 else flat_data\n",
    "#             print(f\" Interval {i}: first 5 elements: {first_five}\")\n",
    "#         print(\"-\" * 50)\n"
   ]
  },
  {
   "cell_type": "code",
   "execution_count": null,
   "metadata": {},
   "outputs": [],
   "source": []
  }
 ],
 "metadata": {
  "kaggle": {
   "accelerator": "none",
   "dataSources": [
    {
     "datasetId": 6674202,
     "sourceId": 10759729,
     "sourceType": "datasetVersion"
    }
   ],
   "dockerImageVersionId": 30918,
   "isGpuEnabled": false,
   "isInternetEnabled": false,
   "language": "python",
   "sourceType": "notebook"
  },
  "kernelspec": {
   "display_name": "algonauts",
   "language": "python",
   "name": "algonauts"
  },
  "language_info": {
   "codemirror_mode": {
    "name": "ipython",
    "version": 3
   },
   "file_extension": ".py",
   "mimetype": "text/x-python",
   "name": "python",
   "nbconvert_exporter": "python",
   "pygments_lexer": "ipython3",
   "version": "3.13.2"
  }
 },
 "nbformat": 4,
 "nbformat_minor": 4
}
